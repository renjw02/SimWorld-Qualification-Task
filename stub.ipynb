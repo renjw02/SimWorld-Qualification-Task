{
 "cells": [
  {
   "cell_type": "code",
   "execution_count": 1,
   "metadata": {},
   "outputs": [],
   "source": [
    "from unrealcv_basic import UnrealCV"
   ]
  },
  {
   "cell_type": "code",
   "execution_count": 3,
   "metadata": {},
   "outputs": [],
   "source": [
    "# Before running following cells, you should enter play mode in UE first. (Open a level and click play button)\n",
    "# If not, an error will occur and UE would crash.\n",
    "# If you can't connect to UE, try to kill the processes that are occupying port 9000 and \n",
    "# restart both UE and the notebook kernel."
   ]
  },
  {
   "cell_type": "code",
   "execution_count": null,
   "metadata": {},
   "outputs": [],
   "source": [
    "# Connect to UE\n",
    "ucv= UnrealCV()"
   ]
  },
  {
   "cell_type": "code",
   "execution_count": null,
   "metadata": {},
   "outputs": [],
   "source": [
    "# Your code here"
   ]
  },
  {
   "cell_type": "code",
   "execution_count": 5,
   "metadata": {},
   "outputs": [],
   "source": [
    "# Remember to disconnect from UE first before leaving play mode.\n",
    "# Otherwise, you will need to restart the kernel and re-enter play mode in UE.\n",
    "ucv.disconnect()"
   ]
  }
 ],
 "metadata": {
  "kernelspec": {
   "display_name": "unreal",
   "language": "python",
   "name": "python3"
  },
  "language_info": {
   "codemirror_mode": {
    "name": "ipython",
    "version": 3
   },
   "file_extension": ".py",
   "mimetype": "text/x-python",
   "name": "python",
   "nbconvert_exporter": "python",
   "pygments_lexer": "ipython3",
   "version": "3.10.16"
  }
 },
 "nbformat": 4,
 "nbformat_minor": 2
}
